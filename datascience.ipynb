{
 "cells": [
  {
   "cell_type": "code",
   "execution_count": 50,
   "metadata": {},
   "outputs": [
    {
     "name": "stdout",
     "output_type": "stream",
     "text": [
      "21205.17\n",
      "80.0\n",
      "0.42\n",
      "       PassengerId    Survived      Pclass         Age       SibSp  \\\n",
      "count   891.000000  891.000000  891.000000  714.000000  891.000000   \n",
      "mean    446.000000    0.383838    2.308642   29.699118    0.523008   \n",
      "std     257.353842    0.486592    0.836071   14.526497    1.102743   \n",
      "min       1.000000    0.000000    1.000000    0.420000    0.000000   \n",
      "25%     223.500000    0.000000    2.000000   20.125000    0.000000   \n",
      "50%     446.000000    0.000000    3.000000   28.000000    0.000000   \n",
      "75%     668.500000    1.000000    3.000000   38.000000    1.000000   \n",
      "max     891.000000    1.000000    3.000000   80.000000    8.000000   \n",
      "\n",
      "            Parch        Fare  \n",
      "count  891.000000  891.000000  \n",
      "mean     0.381594   32.204208  \n",
      "std      0.806057   49.693429  \n",
      "min      0.000000    0.000000  \n",
      "25%      0.000000    7.910400  \n",
      "50%      0.000000   14.454200  \n",
      "75%      0.000000   31.000000  \n",
      "max      6.000000  512.329200  \n",
      "PassengerId      int64\n",
      "Survived         int64\n",
      "Pclass           int64\n",
      "Name            object\n",
      "Sex             object\n",
      "Age            float64\n",
      "SibSp            int64\n",
      "Parch            int64\n",
      "Ticket          object\n",
      "Fare           float64\n",
      "Cabin           object\n",
      "Embarked        object\n",
      "dtype: object\n",
      "------------------------\n",
      "0     Kim\n",
      "1    Park\n",
      "2     Lee\n",
      "3    Choi\n",
      "dtype: object\n",
      "------------------------\n",
      "      Name  Age\n",
      "학번 1   Kim   20\n",
      "학번 2  Park   23\n",
      "학번 3   Lee   21\n",
      "학번 4  Choi   26\n"
     ]
    }
   ],
   "source": [
    "import pandas as pd\n",
    "t = pd.read_csv(\"titanic.csv\")\n",
    "\n",
    "print(t[\"Age\"].sum())\n",
    "print(t[\"Age\"].max())\n",
    "print(t[\"Age\"].min())\n",
    "print(t.describe())\n",
    "print(t.dtypes)\n",
    "print(\"------------------------\")\n",
    "\n",
    "data = ['Kim', 'Park', 'Lee', 'Choi']\n",
    "ser = pd.Series(data)  # Series는 인덱스값을 같이 저장하는 데이터\n",
    "print(ser)\n",
    "print(\"------------------------\")\n",
    "\n",
    "\n",
    "data2 = {'Name': ['Kim', 'Park', 'Lee', 'Choi'],\n",
    "         'Age': [20, 23, 21, 26]}\n",
    "df = pd.DataFrame(data2, index=[\"학번 1\",\"학번 2\",\"학번 3\",\"학번 4\"])\n",
    "print(df)\n",
    "\n"
   ]
  },
  {
   "cell_type": "code",
   "execution_count": 62,
   "metadata": {},
   "outputs": [
    {
     "name": "stdout",
     "output_type": "stream",
     "text": [
      "             Survived  Pclass  \\\n",
      "PassengerId                     \n",
      "1                   0       3   \n",
      "2                   1       1   \n",
      "3                   1       3   \n",
      "4                   1       1   \n",
      "5                   0       3   \n",
      "...               ...     ...   \n",
      "887                 0       2   \n",
      "888                 1       1   \n",
      "889                 0       3   \n",
      "890                 1       1   \n",
      "891                 0       3   \n",
      "\n",
      "                                                          Name     Sex   Age  \\\n",
      "PassengerId                                                                    \n",
      "1                                      Braund, Mr. Owen Harris    male  22.0   \n",
      "2            Cumings, Mrs. John Bradley (Florence Briggs Th...  female  38.0   \n",
      "3                                       Heikkinen, Miss. Laina  female  26.0   \n",
      "4                 Futrelle, Mrs. Jacques Heath (Lily May Peel)  female  35.0   \n",
      "5                                     Allen, Mr. William Henry    male  35.0   \n",
      "...                                                        ...     ...   ...   \n",
      "887                                      Montvila, Rev. Juozas    male  27.0   \n",
      "888                               Graham, Miss. Margaret Edith  female  19.0   \n",
      "889                   Johnston, Miss. Catherine Helen \"Carrie\"  female   NaN   \n",
      "890                                      Behr, Mr. Karl Howell    male  26.0   \n",
      "891                                        Dooley, Mr. Patrick    male  32.0   \n",
      "\n",
      "             SibSp  Parch            Ticket     Fare Cabin Embarked  \n",
      "PassengerId                                                          \n",
      "1                1      0         A/5 21171   7.2500   NaN        S  \n",
      "2                1      0          PC 17599  71.2833   C85        C  \n",
      "3                0      0  STON/O2. 3101282   7.9250   NaN        S  \n",
      "4                1      0            113803  53.1000  C123        S  \n",
      "5                0      0            373450   8.0500   NaN        S  \n",
      "...            ...    ...               ...      ...   ...      ...  \n",
      "887              0      0            211536  13.0000   NaN        S  \n",
      "888              0      0            112053  30.0000   B42        S  \n",
      "889              1      2        W./C. 6607  23.4500   NaN        S  \n",
      "890              0      0            111369  30.0000  C148        C  \n",
      "891              0      0            370376   7.7500   NaN        Q  \n",
      "\n",
      "[891 rows x 11 columns]\n",
      "-----------------------\n",
      "             Survived  Pclass  \\\n",
      "PassengerId                     \n",
      "1                   0       3   \n",
      "2                   1       1   \n",
      "3                   1       3   \n",
      "4                   1       1   \n",
      "5                   0       3   \n",
      "\n",
      "                                                          Name     Sex   Age  \\\n",
      "PassengerId                                                                    \n",
      "1                                      Braund, Mr. Owen Harris    male  22.0   \n",
      "2            Cumings, Mrs. John Bradley (Florence Briggs Th...  female  38.0   \n",
      "3                                       Heikkinen, Miss. Laina  female  26.0   \n",
      "4                 Futrelle, Mrs. Jacques Heath (Lily May Peel)  female  35.0   \n",
      "5                                     Allen, Mr. William Henry    male  35.0   \n",
      "\n",
      "             SibSp  Parch            Ticket     Fare Cabin Embarked  \n",
      "PassengerId                                                          \n",
      "1                1      0         A/5 21171   7.2500   NaN        S  \n",
      "2                1      0          PC 17599  71.2833   C85        C  \n",
      "3                0      0  STON/O2. 3101282   7.9250   NaN        S  \n",
      "4                1      0            113803  53.1000  C123        S  \n",
      "5                0      0            373450   8.0500   NaN        S  \n",
      "-----------------------\n",
      "             Survived  Pclass                                      Name  \\\n",
      "PassengerId                                                               \n",
      "887                 0       2                     Montvila, Rev. Juozas   \n",
      "888                 1       1              Graham, Miss. Margaret Edith   \n",
      "889                 0       3  Johnston, Miss. Catherine Helen \"Carrie\"   \n",
      "890                 1       1                     Behr, Mr. Karl Howell   \n",
      "891                 0       3                       Dooley, Mr. Patrick   \n",
      "\n",
      "                Sex   Age  SibSp  Parch      Ticket   Fare Cabin Embarked  \n",
      "PassengerId                                                                \n",
      "887            male  27.0      0      0      211536  13.00   NaN        S  \n",
      "888          female  19.0      0      0      112053  30.00   B42        S  \n",
      "889          female   NaN      1      2  W./C. 6607  23.45   NaN        S  \n",
      "890            male  26.0      0      0      111369  30.00  C148        C  \n",
      "891            male  32.0      0      0      370376   7.75   NaN        Q  \n"
     ]
    }
   ],
   "source": [
    "titanic = pd.read_csv(\"titanic.csv\", index_col=0)\n",
    "print(titanic)\n",
    "print(\"-----------------------\")\n",
    "print(titanic.head()) # default = 5\n",
    "print(\"-----------------------\")\n",
    "print(titanic.tail())"
   ]
  },
  {
   "cell_type": "code",
   "execution_count": 64,
   "metadata": {},
   "outputs": [
    {
     "name": "stdout",
     "output_type": "stream",
     "text": [
      "    A   B   C   D\n",
      "0  41  38  28  68\n",
      "1  87   0  94  20\n",
      "2  55  15  84  80\n",
      "3  96  46  99  42\n",
      "4  19  89  24  56\n"
     ]
    }
   ],
   "source": [
    "import numpy as np\n",
    "#titanic.to_excel(\"titanic.xlsx\") # 엑셀로 저장하기\n",
    "df = pd.DataFrame(np.random.randint(0,100,size=(5,4)),columns=list('ABCD'))\n",
    "print(df)"
   ]
  },
  {
   "cell_type": "code",
   "execution_count": 83,
   "metadata": {},
   "outputs": [
    {
     "name": "stdout",
     "output_type": "stream",
     "text": [
      "  code  country      area      capital   population\n",
      "0   KR    Korea      9480        Seoul     48422644\n",
      "1   US      USA   9629091   Washington    310232863\n",
      "2   JP    Japan    377835        Tokyo    127288000\n",
      "3   CN    China   9596960      Beijing   1330044000\n",
      "4   RU   Russia  17100000       Moscow    140702000\n"
     ]
    }
   ],
   "source": [
    "countrie = pd.read_csv(\"countries.csv\")\n",
    "print(countrie)\n",
    "\n",
    "data = {'code': ['KR', 'US', 'JP', 'CN', 'RU'],\n",
    "        'country': ['Korea', 'USA', 'Japan', 'China', 'Russia'],\n",
    "        'area': [9480, 9629091, 377835, 9596960, 17100000],\n",
    "        'capital': ['Seoul', 'Washington', 'Tokyo', 'Beijing', 'Moscow'],\n",
    "        'population': [48422644, 310232863, 127288000, 1330044000, 14070200]\n",
    "\n",
    "        }\n",
    "df = pd.DataFrame(data)\n",
    "df.to_csv('countries2.csv')\n",
    "\n"
   ]
  },
  {
   "cell_type": "code",
   "execution_count": 128,
   "metadata": {},
   "outputs": [
    {
     "name": "stdout",
     "output_type": "stream",
     "text": [
      "     PassengerId  Survived  Pclass                       Name     Sex   Age  \\\n",
      "851          852         0       3        Svensson, Mr. Johan    male  74.0   \n",
      "116          117         0       3       Connors, Mr. Patrick    male  70.5   \n",
      "280          281         0       3           Duane, Mr. Frank    male  65.0   \n",
      "483          484         1       3     Turkula, Mrs. (Hedwig)  female  63.0   \n",
      "326          327         0       3  Nysveen, Mr. Johan Hansen    male  61.0   \n",
      "\n",
      "     SibSp  Parch  Ticket    Fare Cabin Embarked  \n",
      "851      0      0  347060  7.7750   NaN        S  \n",
      "116      0      0  370369  7.7500   NaN        Q  \n",
      "280      0      0  336439  7.7500   NaN        Q  \n",
      "483      0      0    4134  9.5875   NaN        S  \n",
      "326      0      0  345364  6.2375   NaN        S  \n"
     ]
    }
   ],
   "source": [
    "# below_20 = titanic[titanic[\"Age\"] < 20]\n",
    "# below_20.head()\n",
    "\n",
    "# print(titanic[titanic[\"Pclass\"].isin([1,2])]) # isin 함수는 값이 포함된 열만 출력\n",
    "\n",
    "# print(titanic.loc[titanic[\"Age\"]<20,[\"Name\", \"Age\"]]) # 20세 미만의 승객 이름만 추출\n",
    "\n",
    "# print(titanic.iloc[20:23, 4:6])\n",
    "# 행범위 #열범위\n",
    "print(t.sort_values(by=[\"Pclass\", \"Age\"],ascending=False).head()) #ascending=False -> 내림차순 정렬"
   ]
  }
 ],
 "metadata": {
  "kernelspec": {
   "display_name": "Python 3",
   "language": "python",
   "name": "python3"
  },
  "language_info": {
   "codemirror_mode": {
    "name": "ipython",
    "version": 3
   },
   "file_extension": ".py",
   "mimetype": "text/x-python",
   "name": "python",
   "nbconvert_exporter": "python",
   "pygments_lexer": "ipython3",
   "version": "3.12.2"
  }
 },
 "nbformat": 4,
 "nbformat_minor": 2
}
